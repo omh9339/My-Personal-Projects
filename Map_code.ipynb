{
  "nbformat": 4,
  "nbformat_minor": 0,
  "metadata": {
    "colab": {
      "name": "Map_code.ipynb",
      "provenance": [],
      "collapsed_sections": [],
      "include_colab_link": true
    },
    "kernelspec": {
      "name": "python3",
      "display_name": "Python 3"
    }
  },
  "cells": [
    {
      "cell_type": "markdown",
      "metadata": {
        "id": "view-in-github",
        "colab_type": "text"
      },
      "source": [
        "<a href=\"https://colab.research.google.com/github/omh9339/My-Projects/blob/master/Map_code.ipynb\" target=\"_parent\"><img src=\"https://colab.research.google.com/assets/colab-badge.svg\" alt=\"Open In Colab\"/></a>"
      ]
    },
    {
      "cell_type": "code",
      "metadata": {
        "id": "Bi60RxbyWqh5",
        "outputId": "80f3398d-eea2-4439-ce7f-adff00f2c082",
        "colab": {
          "base_uri": "https://localhost:8080/",
          "height": 315
        }
      },
      "source": [
        "!pip install geocoder"
      ],
      "execution_count": null,
      "outputs": [
        {
          "output_type": "stream",
          "text": [
            "Collecting geocoder\n",
            "\u001b[?25l  Downloading https://files.pythonhosted.org/packages/4f/6b/13166c909ad2f2d76b929a4227c952630ebaf0d729f6317eb09cbceccbab/geocoder-1.38.1-py2.py3-none-any.whl (98kB)\n",
            "\r\u001b[K     |███▎                            | 10kB 15.2MB/s eta 0:00:01\r\u001b[K     |██████▋                         | 20kB 1.7MB/s eta 0:00:01\r\u001b[K     |██████████                      | 30kB 2.3MB/s eta 0:00:01\r\u001b[K     |█████████████▎                  | 40kB 2.6MB/s eta 0:00:01\r\u001b[K     |████████████████▋               | 51kB 2.0MB/s eta 0:00:01\r\u001b[K     |████████████████████            | 61kB 2.3MB/s eta 0:00:01\r\u001b[K     |███████████████████████▎        | 71kB 2.5MB/s eta 0:00:01\r\u001b[K     |██████████████████████████▋     | 81kB 2.7MB/s eta 0:00:01\r\u001b[K     |██████████████████████████████  | 92kB 2.8MB/s eta 0:00:01\r\u001b[K     |████████████████████████████████| 102kB 2.2MB/s \n",
            "\u001b[?25hRequirement already satisfied: click in /usr/local/lib/python3.6/dist-packages (from geocoder) (7.1.2)\n",
            "Collecting ratelim\n",
            "  Downloading https://files.pythonhosted.org/packages/f2/98/7e6d147fd16a10a5f821db6e25f192265d6ecca3d82957a4fdd592cad49c/ratelim-0.1.6-py2.py3-none-any.whl\n",
            "Requirement already satisfied: six in /usr/local/lib/python3.6/dist-packages (from geocoder) (1.15.0)\n",
            "Requirement already satisfied: future in /usr/local/lib/python3.6/dist-packages (from geocoder) (0.16.0)\n",
            "Requirement already satisfied: requests in /usr/local/lib/python3.6/dist-packages (from geocoder) (2.23.0)\n",
            "Requirement already satisfied: decorator in /usr/local/lib/python3.6/dist-packages (from ratelim->geocoder) (4.4.2)\n",
            "Requirement already satisfied: urllib3!=1.25.0,!=1.25.1,<1.26,>=1.21.1 in /usr/local/lib/python3.6/dist-packages (from requests->geocoder) (1.24.3)\n",
            "Requirement already satisfied: idna<3,>=2.5 in /usr/local/lib/python3.6/dist-packages (from requests->geocoder) (2.10)\n",
            "Requirement already satisfied: chardet<4,>=3.0.2 in /usr/local/lib/python3.6/dist-packages (from requests->geocoder) (3.0.4)\n",
            "Requirement already satisfied: certifi>=2017.4.17 in /usr/local/lib/python3.6/dist-packages (from requests->geocoder) (2020.6.20)\n",
            "Installing collected packages: ratelim, geocoder\n",
            "Successfully installed geocoder-1.38.1 ratelim-0.1.6\n"
          ],
          "name": "stdout"
        }
      ]
    },
    {
      "cell_type": "code",
      "metadata": {
        "id": "OrhUPPQhWPOW",
        "outputId": "72cd4f00-bf27-403f-cc42-e0e86a67a2da",
        "colab": {
          "base_uri": "https://localhost:8080/",
          "height": 799
        }
      },
      "source": [
        "import folium\n",
        "import geocoder\n",
        "\n",
        "print(\"starting...\")\n",
        "\n",
        "\n",
        "# prompts for location and search radius\n",
        "location = input(\"Enter in location to search: \")\n",
        "\n",
        "search_radius = input(\"Enter search radius in km: \") \n",
        "search_radius_km = int(search_radius) * 1000\n",
        "\n",
        "# Use geocoder to convert input string into definite place and finds coordinates\n",
        "loc = geocoder.osm(location)\n",
        "latlng = [loc.lat, loc.lng]\n",
        "\n",
        "\n",
        "# TEMP: for testing use constant coordinate\n",
        "print(\"The location search is being overridden by a set coordinate for testing...\")\n",
        "SearchCoordinates = {\"lat\": 42.59403650704729, \"long\": -83.13777800189553}\n",
        "latlng = [SearchCoordinates[\"lat\"], SearchCoordinates[\"long\"]]\n",
        "\n",
        "\n",
        "# Initialize map object\n",
        "m = folium.Map(location = latlng, zoom_start = 15)\n",
        "\n",
        "# Draws cirlce in area within specified search radius\n",
        "folium.Circle(\n",
        "    location=latlng,\n",
        "    radius= search_radius_km,\n",
        "    color='#428bca',\n",
        "    fill=True,\n",
        "    fill_color='#428bca'\n",
        ").add_to(m)\n",
        "\n",
        "\n",
        "# List for scaled marker color based on risk\n",
        "color_intensity = [ \"green\", \"lightgreen\", \"beige\", \"lightred\", \"red\"]\n",
        "\n",
        "# loops over list and creates marker for every location\n",
        "def add_all_markers(list_of_places_to_add):\n",
        "    for place in list_of_places_to_add:\n",
        "        folium.Marker(\n",
        "            [place[\"lat\"], place[\"long\"]],\n",
        "            popup = folium.Popup(\"<strong>\" + place[\"name\"] + \"</strong><br>Risk Score: \" + str(place[\"RiskScore\"]) , max_width = 300),\n",
        "            icon = folium.Icon(color= color_intensity[int(place[\"RiskScore\"] // 20)], icon = \"cutlery\")\n",
        "        ).add_to(m)\n",
        "\n",
        "# test list of place examples and data\n",
        "RiskAssessmentDict = [{\"name\" : \"Premium Matcha Cafe Maiko\", \"lat\" : 42.593622, \"long\" : -83.128351, \"RiskScore\": 95}, {\"name\" : \"Cafe Immortelle - Espresso & Tea Bar\", \"lat\" : 42.59070133, \"long\" : -83.14953217, \"RiskScore\": 75}, {\"name\" : \"Cafe Example\", \"lat\": 42.5621107958834, \"long\": -83.1648893493088, \"RiskScore\": 20},{\"name\" : \"Cafe Example Deux\", \"lat\": 42.62110795, \"long\": -83.1648893493088, \"RiskScore\": 48} ]\n",
        "add_all_markers(RiskAssessmentDict)\n",
        "\n",
        "\n",
        "# saves to html\n",
        "#m.save(\"map.html\")\n",
        "display(m)\n",
        "\n"
      ],
      "execution_count": null,
      "outputs": [
        {
          "output_type": "stream",
          "text": [
            "starting...\n",
            "Enter in location to search: 63 prentice rd\n",
            "Enter search radius in km: 2\n",
            "Nassau County\n",
            "The location search is being overridden by a set coordinate for testing...\n"
          ],
          "name": "stdout"
        },
        {
          "output_type": "display_data",
          "data": {
            "text/html": [
              "<div style=\"width:100%;\"><div style=\"position:relative;width:100%;height:0;padding-bottom:60%;\"><span style=\"color:#565656\">Make this Notebook Trusted to load map: File -> Trust Notebook</span><iframe src=\"about:blank\" style=\"position:absolute;width:100%;height:100%;left:0;top:0;border:none !important;\" data-html=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 onload=\"this.contentDocument.open();this.contentDocument.write(atob(this.getAttribute('data-html')));this.contentDocument.close();\" allowfullscreen webkitallowfullscreen mozallowfullscreen></iframe></div></div>"
            ],
            "text/plain": [
              "<folium.folium.Map at 0x7fc6c1892f98>"
            ]
          },
          "metadata": {
            "tags": []
          }
        }
      ]
    },
    {
      "cell_type": "code",
      "metadata": {
        "id": "0RPaLlqSWpOk"
      },
      "source": [
        ""
      ],
      "execution_count": null,
      "outputs": []
    }
  ]
}